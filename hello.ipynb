{
  "nbformat": 4,
  "nbformat_minor": 0,
  "metadata": {
    "colab": {
      "provenance": [],
      "authorship_tag": "ABX9TyPs4G5mZ07Zg8NRU1/QJ+Vh",
      "include_colab_link": true
    },
    "kernelspec": {
      "name": "python3",
      "display_name": "Python 3"
    },
    "language_info": {
      "name": "python"
    }
  },
  "cells": [
    {
      "cell_type": "markdown",
      "metadata": {
        "id": "view-in-github",
        "colab_type": "text"
      },
      "source": [
        "<a href=\"https://colab.research.google.com/github/Omdena-Bhutan/starter-assignment-yeshaydwsl888-rgb/blob/main/hello.ipynb\" target=\"_parent\"><img src=\"https://colab.research.google.com/assets/colab-badge.svg\" alt=\"Open In Colab\"/></a>"
      ]
    },
    {
      "cell_type": "code",
      "execution_count": 2,
      "metadata": {
        "id": "UEVm6wAc2qOc"
      },
      "outputs": [],
      "source": [
        "y = \"hello python\""
      ]
    },
    {
      "cell_type": "code",
      "source": [
        "# Code to print a statement\n",
        "print(\"Hello Yeshay\")"
      ],
      "metadata": {
        "id": "46sE9fGMCJZt"
      },
      "execution_count": null,
      "outputs": []
    }
  ]
}